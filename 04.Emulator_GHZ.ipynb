{
 "cells": [
  {
   "cell_type": "code",
   "execution_count": null,
   "id": "fc8897e0-81f5-4439-8fa8-88b5da185dbb",
   "metadata": {},
   "outputs": [],
   "source": [
    "import pennylane as qml\n",
    "accessKeyId = \"\"\n",
    "secretAccessKey = \"\""
   ]
  },
  {
   "cell_type": "code",
   "execution_count": null,
   "id": "da3e150f-1168-443e-932e-ae41d9cfa684",
   "metadata": {},
   "outputs": [],
   "source": [
    "dev = qml.device(\n",
    "        \"kq.emulator.mpi\", \n",
    "        wires=7,\n",
    "        shots=2048,\n",
    "        accessKeyId=accessKeyId,\n",
    "        secretAccessKey=secretAccessKey,\n",
    ")"
   ]
  },
  {
   "cell_type": "code",
   "execution_count": null,
   "id": "3c60bb11-38a8-4289-adfd-3c5e5713a25e",
   "metadata": {},
   "outputs": [],
   "source": [
    "@qml.qnode(dev)\n",
    "def circuit():\n",
    "    qml.Hadamard(wires=0)\n",
    "    qml.CNOT(wires=[0,1])\n",
    "    qml.CNOT(wires=[1,2])\n",
    "    qml.CNOT(wires=[2,3])\n",
    "    qml.CNOT(wires=[3,4])\n",
    "    qml.CNOT(wires=[4,5])\n",
    "    qml.CNOT(wires=[5,6])\n",
    "    return qml.counts()"
   ]
  },
  {
   "cell_type": "code",
   "execution_count": null,
   "id": "935d7ac6-55f4-4301-a178-e860d4a9edda",
   "metadata": {},
   "outputs": [],
   "source": [
    "result = circuit()"
   ]
  },
  {
   "cell_type": "code",
   "execution_count": null,
   "id": "c54b8da4-0993-4f6f-9a74-a74b2dd31d16",
   "metadata": {},
   "outputs": [],
   "source": [
    "print(result)"
   ]
  },
  {
   "cell_type": "code",
   "execution_count": null,
   "id": "de6d185f-5938-49a9-8f2b-b6f06021b7eb",
   "metadata": {},
   "outputs": [],
   "source": []
  }
 ],
 "metadata": {
  "kernelspec": {
   "display_name": "Python 3 (ipykernel)",
   "language": "python",
   "name": "python3"
  },
  "language_info": {
   "codemirror_mode": {
    "name": "ipython",
    "version": 3
   },
   "file_extension": ".py",
   "mimetype": "text/x-python",
   "name": "python",
   "nbconvert_exporter": "python",
   "pygments_lexer": "ipython3",
   "version": "3.11.6"
  }
 },
 "nbformat": 4,
 "nbformat_minor": 5
}
