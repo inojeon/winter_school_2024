{
 "cells": [
  {
   "cell_type": "markdown",
   "metadata": {},
   "source": [
    "Consider the problem of brute-force searching.\n",
    "\n",
    "Define $f:\\{0, 1\\}^{n} \\rightarrow \\{0, 1\\}$ such that $f(x)=1$ for a specific input $w \\in \\{0, 1\\}^{n}$, and $f(x)=0$ otherwise.\n",
    "\n",
    "The task is to find the value of $w$.\n",
    "\n",
    "Classically, in the worst case, solving this problem requires $N=2^{n}$ queries. On average, $N/2$ queries are needed.\n",
    "\n",
    "As a quantum solution, Grover's algorithm can solve this problem using $O(\\sqrt{N})$ queries."
   ]
  },
  {
   "cell_type": "code",
   "execution_count": null,
   "metadata": {},
   "outputs": [],
   "source": [
    "import pennylane as qml\n",
    "import numpy as np\n",
    "import matplotlib.pyplot as plt\n",
    "\n",
    "n = 5\n",
    "\n",
    "dev_count = qml.device(\"default.qubit\", wires=n+1, shots=10000)\n",
    "dev_prob = qml.device(\"default.qubit\", wires=n+1)"
   ]
  },
  {
   "cell_type": "markdown",
   "metadata": {},
   "source": [
    "-- Grover's algorithm --\n",
    "\n",
    "(1) Prepare $\\left|0\\right>^{\\otimes n}$ and perform $H^{\\otimes n}$ to the state.  \n",
    "(2) Apply the oracle operator $U_{f}$.  \n",
    "(3) Execute the reflection gate (also known as the Grover diffusion operator).  \n",
    "(4) Repeat steps (2) and (3) until the number of iterations $t$ reaches $t \\approx \\pi \\sqrt{N} /4$.  \n",
    "(5) Perform measurement."
   ]
  },
  {
   "cell_type": "code",
   "execution_count": null,
   "metadata": {},
   "outputs": [],
   "source": [
    "# oracle operator example\n",
    "def oracle(bitstring_w):\n",
    "    n = len(bitstring_w)\n",
    "    for i in range(n):\n",
    "        if bitstring_w[i] == '0':\n",
    "            qml.PauliX(wires=i+1)\n",
    "    qml.MultiControlledX(wires=[i+1 for i in range(n)]+[0])\n",
    "    for i in range(n):\n",
    "        if bitstring_w[i] == '0':\n",
    "            qml.PauliX(wires=i+1)\n",
    "\n",
    "\n",
    "# oracle oprator figure\n",
    "fig, ax = qml.draw_mpl(oracle)('01011')\n",
    "plt.show()"
   ]
  },
  {
   "cell_type": "markdown",
   "metadata": {},
   "source": [
    "Reflection operator: $R_{s}=2 \\left|s\\right>\\left<s\\right| -I$, where $\\left|s \\right>=H^{\\otimes n}\\left|0\\right>^{\\otimes n}$.  \n",
    "$\\Rightarrow$ $R_{s}=H^{\\otimes n}R_{0}H^{\\otimes n}$, where $R_{0}=2 \\left|0\\right>\\left<0\\right|^{\\otimes n} -I$.\n"
   ]
  },
  {
   "cell_type": "code",
   "execution_count": null,
   "metadata": {},
   "outputs": [],
   "source": [
    "# reflection gate\n",
    "def reflection():\n",
    "    for i in range(n):\n",
    "        qml.Hadamard(wires=i+1)\n",
    "    qml.Barrier()\n",
    "    for i in range(n):\n",
    "        qml.PauliX(wires=i+1)\n",
    "    # HXH=Z\n",
    "    qml.Barrier()\n",
    "    qml.Hadamard(wires=n)\n",
    "    qml.MultiControlledX(wires=[i+1 for i in range(n-1)]+[n])\n",
    "    qml.Hadamard(wires=n)\n",
    "    qml.Barrier()\n",
    "    for i in range(n):\n",
    "        qml.PauliX(wires=i+1)\n",
    "    qml.Barrier()\n",
    "    qml.PauliX(wires=n)\n",
    "    qml.PauliZ(wires=n)\n",
    "    qml.PauliX(wires=n)\n",
    "    qml.PauliZ(wires=n)\n",
    "    qml.Barrier()\n",
    "    for i in range(n):\n",
    "        qml.Hadamard(wires=i+1)\n",
    "\n",
    "# reflection gate figure\n",
    "fig, ax = qml.draw_mpl(reflection)()\n",
    "plt.show()"
   ]
  },
  {
   "cell_type": "code",
   "execution_count": null,
   "metadata": {},
   "outputs": [],
   "source": [
    "# Grover's algorithm\n",
    "\n",
    "import random\n",
    "random_bitstring_w = format(random.getrandbits(n), 'b').zfill(n)\n",
    "\n",
    "# measurement: counts\n",
    "@qml.qnode(dev_count)\n",
    "def Grover_algorithm_count(n_query):\n",
    "    qml.PauliX(wires=0)\n",
    "    for i in range(n+1):\n",
    "        qml.Hadamard(wires=i)\n",
    "    for t in range(n_query):\n",
    "        oracle(random_bitstring_w)\n",
    "        reflection()\n",
    "    return qml.counts(wires=[i for i in range(1, n+1)], all_outcomes=True)\n",
    "\n",
    "# measurement: probability\n",
    "@qml.qnode(dev_prob)\n",
    "def Grover_algorithm_prob(n_query):\n",
    "    qml.PauliX(wires=0)\n",
    "    for i in range(n+1):\n",
    "        qml.Hadamard(wires=i)\n",
    "    qml.Barrier(wires=[i for i in range(n+1)])\n",
    "    for t in range(n_query):\n",
    "        oracle(random_bitstring_w)\n",
    "        qml.Barrier(wires=[i for i in range(n+1)])\n",
    "        reflection()\n",
    "        qml.Barrier(wires=[i for i in range(n+1)])\n",
    "    return qml.probs(wires=[i for i in range(1, n+1)])"
   ]
  },
  {
   "cell_type": "code",
   "execution_count": null,
   "metadata": {},
   "outputs": [],
   "source": [
    "fig, ax = qml.draw_mpl(Grover_algorithm_prob)(2)\n",
    "plt.show()"
   ]
  },
  {
   "cell_type": "markdown",
   "metadata": {},
   "source": [
    "As shown in the graphs below, by applying Grover's algorithm, we can find the desired element $w$ with high probability.  \n",
    "Note: If the number of iterations exceeds a certain point, the probability of finding $w$ starts to decrease again."
   ]
  },
  {
   "cell_type": "code",
   "execution_count": null,
   "metadata": {},
   "outputs": [],
   "source": [
    "print('desired value w:', random_bitstring_w)\n",
    "bitstring_list = [format(i, 'b').zfill(n) for i in range(2**n)]\n",
    "\n",
    "for t in range(8):\n",
    "    result = Grover_algorithm_prob(n_query=t)\n",
    "    print('result:', result)\n",
    "    plt.bar(bitstring_list, result)\n",
    "    plt.xticks(rotation=\"vertical\")\n",
    "    plt.xlabel('Bitstring')\n",
    "    plt.ylabel('Probability')\n",
    "    plt.title('n_query={}'.format(t))\n",
    "    plt.show()"
   ]
  },
  {
   "cell_type": "code",
   "execution_count": null,
   "metadata": {},
   "outputs": [],
   "source": [
    "print('desired value w:', random_bitstring_w)\n",
    "\n",
    "for t in range(8):\n",
    "    print('result:', Grover_algorithm_count(n_query=t))\n",
    "    keys = list(Grover_algorithm_count(n_query=t).keys())\n",
    "    values = list(Grover_algorithm_count(n_query=t).values())\n",
    "    plt.bar(keys, values)\n",
    "    plt.xticks(rotation=\"vertical\")\n",
    "    plt.xlabel('Bitstring')\n",
    "    plt.ylabel('Counts')\n",
    "    plt.title('n_query={}'.format(t))\n",
    "    plt.show()"
   ]
  },
  {
   "cell_type": "markdown",
   "metadata": {},
   "source": [
    "-- Reference --   \n",
    "Lov K. Grover, \"A fast quantum mechanical algorithm for database search.\" Proceedings of the twenty-eighth annual ACM symposium on Theory of computing (1996)."
   ]
  }
 ],
 "metadata": {
  "kernelspec": {
   "display_name": "Python 3 (ipykernel)",
   "language": "python",
   "name": "python3"
  },
  "language_info": {
   "codemirror_mode": {
    "name": "ipython",
    "version": 3
   },
   "file_extension": ".py",
   "mimetype": "text/x-python",
   "name": "python",
   "nbconvert_exporter": "python",
   "pygments_lexer": "ipython3",
   "version": "3.11.6"
  }
 },
 "nbformat": 4,
 "nbformat_minor": 4
}
