{
 "cells": [
  {
   "cell_type": "code",
   "execution_count": null,
   "id": "3b99da33-a23a-426d-a05e-28de8cd99fd2",
   "metadata": {},
   "outputs": [],
   "source": [
    "import pennylane as qml\n",
    "accessKeyId = \"\"\n",
    "secretAccessKey = \"\""
   ]
  },
  {
   "cell_type": "code",
   "execution_count": null,
   "id": "b9077899-1f8f-45bf-b725-8a48b4a6cb3b",
   "metadata": {},
   "outputs": [],
   "source": [
    "dev = qml.device(\n",
    "        \"kq.emulator\",\n",
    "        wires=2,\n",
    "        shots=2048,\n",
    "        accessKeyId=accessKeyId,\n",
    "        secretAccessKey=secretAccessKey,\n",
    ")"
   ]
  },
  {
   "cell_type": "code",
   "execution_count": null,
   "id": "74a701eb-55d0-4d95-84f9-7af90b6c3b91",
   "metadata": {},
   "outputs": [],
   "source": [
    "@qml.qnode(dev)\n",
    "def circuit():\n",
    "    qml.Hadamard(wires=1)\n",
    "    qml.CNOT(wires=[1, 0])\n",
    "    return qml.counts()"
   ]
  },
  {
   "cell_type": "code",
   "execution_count": null,
   "id": "c7577018-fe2c-4da2-9308-89a275c08d67",
   "metadata": {},
   "outputs": [],
   "source": [
    "result = circuit()"
   ]
  },
  {
   "cell_type": "code",
   "execution_count": null,
   "id": "72d7e2cb-9f3e-463a-9851-8eac0a6d7525",
   "metadata": {},
   "outputs": [],
   "source": [
    "print(result)"
   ]
  },
  {
   "cell_type": "code",
   "execution_count": null,
   "id": "f4db871a-2a16-4999-9ee4-8cdcbbdc20b7",
   "metadata": {},
   "outputs": [],
   "source": []
  }
 ],
 "metadata": {
  "kernelspec": {
   "display_name": "Python 3 (ipykernel)",
   "language": "python",
   "name": "python3"
  },
  "language_info": {
   "codemirror_mode": {
    "name": "ipython",
    "version": 3
   },
   "file_extension": ".py",
   "mimetype": "text/x-python",
   "name": "python",
   "nbconvert_exporter": "python",
   "pygments_lexer": "ipython3",
   "version": "3.11.6"
  }
 },
 "nbformat": 4,
 "nbformat_minor": 5
}
