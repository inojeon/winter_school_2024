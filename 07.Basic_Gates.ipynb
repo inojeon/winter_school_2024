{
 "cells": [
  {
   "cell_type": "markdown",
   "id": "0696f90e-a367-4e61-9050-b24dc2bfe213",
   "metadata": {},
   "source": [
    "# Tutorial 1"
   ]
  },
  {
   "cell_type": "code",
   "execution_count": null,
   "id": "72eef68b-81bb-4fd6-b1da-43583797f641",
   "metadata": {},
   "outputs": [],
   "source": [
    "import pennylane as qml\n",
    "\n",
    "accessKeyId = \"\"\n",
    "secretAccessKey = \"\""
   ]
  },
  {
   "cell_type": "markdown",
   "id": "7cc32b4b-ddbf-40ca-92ae-f6fbc2d3c239",
   "metadata": {},
   "source": [
    "## 1. Access Devices\n",
    "---"
   ]
  },
  {
   "cell_type": "markdown",
   "id": "3d4441f7-11f6-41d0-8a03-967d50b3fc21",
   "metadata": {},
   "source": [
    "### 1-1 provided by K-Q (Unavailable Yet) "
   ]
  },
  {
   "cell_type": "code",
   "execution_count": null,
   "id": "455b1f75-a22e-43b7-8556-283e4422b723",
   "metadata": {
    "scrolled": true
   },
   "outputs": [],
   "source": [
    "dev = qml.device(\"kq.emulator\", wires=2, #shots=2048, \n",
    "                accessKeyId = accessKeyId,\n",
    "                secretAccessKey = secretAccessKey,\n",
    "                ) "
   ]
  },
  {
   "cell_type": "markdown",
   "id": "f1760289-c73d-4449-8319-d88f8563c878",
   "metadata": {},
   "source": [
    "### 1-2 provided by PENNYLANE (Built-in)"
   ]
  },
  {
   "cell_type": "code",
   "execution_count": null,
   "id": "dd0c1446-3bcb-41c5-969f-7a68b9da8c04",
   "metadata": {},
   "outputs": [],
   "source": [
    "dev = qml.device(\"default.qubit\", wires=2, shots=2048)"
   ]
  },
  {
   "cell_type": "markdown",
   "id": "2ecdf4fb-325f-4c9b-979e-db48be28de8d",
   "metadata": {},
   "source": [
    "## 2. Examples \n",
    "---"
   ]
  },
  {
   "cell_type": "markdown",
   "id": "dcd54b6b-4b0f-4153-8fb8-c2834250d5c3",
   "metadata": {},
   "source": [
    "### 1. Logical Gate"
   ]
  },
  {
   "cell_type": "code",
   "execution_count": null,
   "id": "cf059280-8aad-4172-911a-3ad46713ca64",
   "metadata": {},
   "outputs": [],
   "source": [
    "qml.PauliX(wires=0).matrix()"
   ]
  },
  {
   "cell_type": "code",
   "execution_count": null,
   "id": "278fedb0-015e-42d7-ac4d-eaa4b2b545dd",
   "metadata": {},
   "outputs": [],
   "source": [
    "qml.CNOT(wires=[0,1]).matrix()"
   ]
  },
  {
   "cell_type": "code",
   "execution_count": null,
   "id": "1038e0fa-7fa8-43d3-83a1-d8ef6c673c99",
   "metadata": {},
   "outputs": [],
   "source": [
    "toffoli = qml.MultiControlledX(wires=[0,1,2])\n",
    "toffoli.matrix()"
   ]
  },
  {
   "cell_type": "markdown",
   "id": "d15ee6dc-ebda-4d83-abdb-05e1b5e14c35",
   "metadata": {},
   "source": [
    "### 2. Bell States"
   ]
  },
  {
   "cell_type": "code",
   "execution_count": null,
   "id": "db818d28-7214-48fb-a2e2-0e04cd4c96f3",
   "metadata": {},
   "outputs": [],
   "source": [
    "@qml.qnode(dev)\n",
    "def circuit1():\n",
    "    qml.Hadamard(wires=0)\n",
    "    qml.CNOT(wires=[0, 1])\n",
    "    return qml.counts()"
   ]
  },
  {
   "cell_type": "code",
   "execution_count": null,
   "id": "b38dccd1-4e90-419f-9c69-0b6316975edb",
   "metadata": {},
   "outputs": [],
   "source": [
    "qml.draw_mpl(circuit1)()"
   ]
  },
  {
   "cell_type": "code",
   "execution_count": null,
   "id": "b79e9e28-de85-4d29-838b-900f233f23e8",
   "metadata": {},
   "outputs": [],
   "source": [
    "result = circuit1()\n",
    "print('Outcomes: Counts\\n', result)"
   ]
  },
  {
   "cell_type": "code",
   "execution_count": null,
   "id": "5355035e-05f5-431a-8902-a0fee836a21e",
   "metadata": {},
   "outputs": [],
   "source": [
    "@qml.qnode(dev)\n",
    "def circuit2():\n",
    "    qml.PauliX(wires=0)\n",
    "    qml.Hadamard(wires=0)\n",
    "    qml.CNOT(wires=[0, 1])\n",
    "    qml.PauliX(wires=1)\n",
    "    return qml.counts()"
   ]
  },
  {
   "cell_type": "code",
   "execution_count": null,
   "id": "afd11835-733c-415c-afbc-3ea29b4db691",
   "metadata": {},
   "outputs": [],
   "source": [
    "qml.draw_mpl(circuit2)()"
   ]
  },
  {
   "cell_type": "code",
   "execution_count": null,
   "id": "23edecfe-590a-47eb-9873-ff427652d0b4",
   "metadata": {},
   "outputs": [],
   "source": [
    "result = circuit2()\n",
    "print('Outcomes: Counts\\n', result)"
   ]
  },
  {
   "cell_type": "markdown",
   "id": "1dd41ff2-2e95-4ecb-9423-1e8d484de7d7",
   "metadata": {},
   "source": [
    "## Example 3 : Statevector\n",
    "---"
   ]
  },
  {
   "cell_type": "code",
   "execution_count": null,
   "id": "7d74d06e-251e-42bd-ad09-96486b7ac249",
   "metadata": {},
   "outputs": [],
   "source": [
    "dev1 = qml.device(\"default.qubit\", wires=2)"
   ]
  },
  {
   "cell_type": "code",
   "execution_count": null,
   "id": "96ee6383-8e0f-4258-bd2b-3ae3b657214c",
   "metadata": {},
   "outputs": [],
   "source": [
    "@qml.qnode(dev1)\n",
    "def circuit3():\n",
    "    qml.Hadamard(wires=0)\n",
    "    qml.CNOT(wires=[0, 1])\n",
    "    return qml.state()"
   ]
  },
  {
   "cell_type": "code",
   "execution_count": null,
   "id": "67bc7d3f-32b7-4b77-9a2b-a6fcd6d17596",
   "metadata": {},
   "outputs": [],
   "source": [
    "circuit3()"
   ]
  },
  {
   "cell_type": "code",
   "execution_count": null,
   "id": "399ead7d-38cd-422c-8993-2e8b10d7b342",
   "metadata": {},
   "outputs": [],
   "source": [
    "@qml.qnode(dev1)\n",
    "def circuit4():\n",
    "    qml.PauliX(wires=0)\n",
    "    qml.Hadamard(wires=0)\n",
    "    qml.CNOT(wires=[0, 1])\n",
    "    qml.PauliX(wires=1)\n",
    "    return qml.state()"
   ]
  },
  {
   "cell_type": "code",
   "execution_count": null,
   "id": "cc9d1950-9873-4360-939d-43d7df18d24e",
   "metadata": {},
   "outputs": [],
   "source": [
    "circuit4()"
   ]
  },
  {
   "cell_type": "markdown",
   "id": "539f3a97-db59-4d67-b5ec-09aa3490d720",
   "metadata": {},
   "source": [
    "## Example 4 : Toffli Gate\n",
    "---"
   ]
  },
  {
   "cell_type": "code",
   "execution_count": null,
   "id": "e1dc83e6-5074-43bc-be34-1acc48345fd4",
   "metadata": {},
   "outputs": [],
   "source": [
    "dev2 =qml.device(\"default.qubit\", wires=3, shots=2048)"
   ]
  },
  {
   "cell_type": "code",
   "execution_count": null,
   "id": "137d7267-5c35-40d3-b234-8201c540df7e",
   "metadata": {},
   "outputs": [],
   "source": [
    "@qml.qnode(dev2)\n",
    "def circuit5():\n",
    "    qml.Hadamard(wires=0)\n",
    "    qml.Hadamard(wires=1)\n",
    "    qml.MultiControlledX(wires=[0,1,2])\n",
    "    return qml.counts()"
   ]
  },
  {
   "cell_type": "code",
   "execution_count": null,
   "id": "aaae291a-4e1c-43fd-8aa8-02f8619741eb",
   "metadata": {},
   "outputs": [],
   "source": [
    "qml.draw_mpl(circuit5)()"
   ]
  },
  {
   "cell_type": "code",
   "execution_count": null,
   "id": "cf866c6d-0374-469c-a0d2-76ce476599b7",
   "metadata": {},
   "outputs": [],
   "source": [
    "print('Outcomes: Counts\\n', circuit5())"
   ]
  },
  {
   "cell_type": "code",
   "execution_count": null,
   "id": "d213a603-88fb-46bf-b964-0dec0f385718",
   "metadata": {},
   "outputs": [],
   "source": []
  }
 ],
 "metadata": {
  "kernelspec": {
   "display_name": "Python 3 (ipykernel)",
   "language": "python",
   "name": "python3"
  },
  "language_info": {
   "codemirror_mode": {
    "name": "ipython",
    "version": 3
   },
   "file_extension": ".py",
   "mimetype": "text/x-python",
   "name": "python",
   "nbconvert_exporter": "python",
   "pygments_lexer": "ipython3",
   "version": "3.11.6"
  }
 },
 "nbformat": 4,
 "nbformat_minor": 5
}
