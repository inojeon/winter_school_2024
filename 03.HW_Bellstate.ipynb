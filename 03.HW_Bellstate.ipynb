{
 "cells": [
  {
   "cell_type": "code",
   "execution_count": null,
   "id": "833ddcdc-c7f5-47d6-a68c-6dbba4a874f7",
   "metadata": {},
   "outputs": [],
   "source": [
    "import pennylane as qml\n",
    "accessKeyId = \"\"\n",
    "secretAccessKey = \"\""
   ]
  },
  {
   "cell_type": "code",
   "execution_count": null,
   "id": "347011e9-1ada-448d-905e-6292843771b8",
   "metadata": {},
   "outputs": [],
   "source": [
    "dev = qml.device(\n",
    "        \"kq.hardware\",\n",
    "        wires=2,\n",
    "        shots=2048,\n",
    "        accessKeyId=accessKeyId,\n",
    "        secretAccessKey=secretAccessKey,\n",
    ")"
   ]
  },
  {
   "cell_type": "code",
   "execution_count": null,
   "id": "631b1e33-dd70-4cc2-961e-370ac88d2ba4",
   "metadata": {},
   "outputs": [],
   "source": [
    "@qml.qnode(dev)\n",
    "def circuit():\n",
    "    qml.Hadamard(wires=1)\n",
    "    qml.CNOT(wires=[1, 0])\n",
    "    return qml.counts()"
   ]
  },
  {
   "cell_type": "code",
   "execution_count": null,
   "id": "48341bb9-5ab7-4b39-95a2-c89239f0cff8",
   "metadata": {},
   "outputs": [],
   "source": [
    "result = circuit()"
   ]
  },
  {
   "cell_type": "code",
   "execution_count": null,
   "id": "5bb44069-301d-4df1-94c8-08cd62ae9d31",
   "metadata": {},
   "outputs": [],
   "source": [
    "print(result)"
   ]
  },
  {
   "cell_type": "code",
   "execution_count": null,
   "id": "334e91b8-3d96-4634-be8f-bc26ec4f9a64",
   "metadata": {},
   "outputs": [],
   "source": []
  }
 ],
 "metadata": {
  "kernelspec": {
   "display_name": "Python 3 (ipykernel)",
   "language": "python",
   "name": "python3"
  },
  "language_info": {
   "codemirror_mode": {
    "name": "ipython",
    "version": 3
   },
   "file_extension": ".py",
   "mimetype": "text/x-python",
   "name": "python",
   "nbconvert_exporter": "python",
   "pygments_lexer": "ipython3",
   "version": "3.11.6"
  }
 },
 "nbformat": 4,
 "nbformat_minor": 5
}
