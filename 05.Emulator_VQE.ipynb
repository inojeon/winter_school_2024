{
 "cells": [
  {
   "cell_type": "code",
   "execution_count": null,
   "id": "ab8acfcf-8113-4707-b0b0-8cd6f6eaf98f",
   "metadata": {},
   "outputs": [],
   "source": [
    "import pennylane as qml\n",
    "import numpy as np\n",
    "\n",
    "accessKeyId = \"\"\n",
    "secretAccessKey = \"\""
   ]
  },
  {
   "cell_type": "code",
   "execution_count": null,
   "id": "6961e96b-8973-4ef1-be2e-1cfc199acd11",
   "metadata": {},
   "outputs": [],
   "source": [
    "dev = qml.device(\n",
    "        \"kq.emulator\",\n",
    "        wires=2,\n",
    "        shots=2048,\n",
    "        accessKeyId=accessKeyId,\n",
    "        secretAccessKey=secretAccessKey,\n",
    ")"
   ]
  },
  {
   "cell_type": "code",
   "execution_count": null,
   "id": "e21871d5-f9f7-4195-b04d-f8fdb0c84686",
   "metadata": {},
   "outputs": [],
   "source": [
    "dev = qml.device(\"default.qubit\", wires=2, shots=2048)"
   ]
  },
  {
   "cell_type": "code",
   "execution_count": null,
   "id": "7d3bb37c-17f9-420a-9182-c701a37b6cd3",
   "metadata": {},
   "outputs": [],
   "source": [
    "@qml.qnode(dev, interface=\"autograd\")\n",
    "def circuit1(param):\n",
    "    qml.RY(param[0], wires=0)\n",
    "    qml.RY(param[1], wires=1)\n",
    "    qml.CNOT(wires=[0,1])\n",
    "    qml.RY(param[2], wires=0)\n",
    "    qml.RY(param[3], wires=1)\n",
    "    return qml.expval(qml.Identity(0)@qml.Identity(1))"
   ]
  },
  {
   "cell_type": "code",
   "execution_count": null,
   "id": "fce64433-e264-4645-8060-99314e406f28",
   "metadata": {},
   "outputs": [],
   "source": [
    "@qml.qnode(dev, interface=\"autograd\")\n",
    "def circuit2(param):\n",
    "    qml.RY(param[0], wires=0)\n",
    "    qml.RY(param[1], wires=1)\n",
    "    qml.CNOT(wires=[0,1])\n",
    "    qml.RY(param[2], wires=0)\n",
    "    qml.RY(param[3], wires=1)\n",
    "    return qml.expval(qml.Identity(0)@qml.PauliX(1))"
   ]
  },
  {
   "cell_type": "code",
   "execution_count": null,
   "id": "e114c29e-6617-4d25-9945-49370231e4bf",
   "metadata": {},
   "outputs": [],
   "source": [
    "@qml.qnode(dev, interface=\"autograd\")\n",
    "def circuit3(param):\n",
    "    qml.RY(param[0], wires=0)\n",
    "    qml.RY(param[1], wires=1)\n",
    "    qml.CNOT(wires=[0,1])\n",
    "    qml.RY(param[2], wires=0)\n",
    "    qml.RY(param[3], wires=1)\n",
    "    return qml.expval(qml.PauliX(0)@qml.PauliX(1))"
   ]
  },
  {
   "cell_type": "code",
   "execution_count": null,
   "id": "3bba98bc-804d-47d4-8218-758a50f2d8c9",
   "metadata": {},
   "outputs": [],
   "source": [
    "@qml.qnode(dev, interface=\"autograd\")\n",
    "def circuit4(param):\n",
    "    qml.RY(param[0], wires=0)\n",
    "    qml.RY(param[1], wires=1)\n",
    "    qml.CNOT(wires=[0,1])\n",
    "    qml.RY(param[2], wires=0)\n",
    "    qml.RY(param[3], wires=1)\n",
    "    return qml.expval(qml.PauliY(0)@qml.PauliY(1))"
   ]
  },
  {
   "cell_type": "code",
   "execution_count": null,
   "id": "ac6528f7-5a85-47be-8787-6f63bb703566",
   "metadata": {},
   "outputs": [],
   "source": [
    "# calculate the cost function\n",
    "def cost_fn(param):\n",
    "    return 2*circuit1(param) - circuit2(param) - 0.5*circuit3(param) - 0.5*circuit4(param)"
   ]
  },
  {
   "cell_type": "code",
   "execution_count": null,
   "id": "7eb1572f-b9fb-4db8-a9d3-777285887f6a",
   "metadata": {},
   "outputs": [],
   "source": [
    "opt = qml.GradientDescentOptimizer(stepsize=0.4)\n",
    "theta = qml.numpy.array([0.5*np.pi, 0.5*np.pi, 0.5*np.pi, 0.5*np.pi], requires_grad=True)\n",
    "\n",
    "# store the values of the cost function\n",
    "energy = [cost_fn(theta)]\n",
    "\n",
    "# store the values of the circuit parameter\n",
    "angle = [theta]\n",
    "\n",
    "max_iterations = 100\n",
    "conv_tol = 1e-04"
   ]
  },
  {
   "cell_type": "code",
   "execution_count": null,
   "id": "ffd26925-7986-4673-b39f-8e4d25cc94e5",
   "metadata": {},
   "outputs": [],
   "source": [
    "for n in range(max_iterations):\n",
    "    theta, prev_energy = opt.step_and_cost(cost_fn, theta)\n",
    "    energy.append(cost_fn(theta))\n",
    "    angle.append(theta)\n",
    "    conv = np.abs(energy[-1] - prev_energy)\n",
    "    \n",
    "    if conv <= conv_tol:\n",
    "        break"
   ]
  },
  {
   "cell_type": "code",
   "execution_count": null,
   "id": "9209e459-337f-4934-8af7-ccbbed60f338",
   "metadata": {},
   "outputs": [],
   "source": [
    "import matplotlib.pyplot as plt\n",
    "\n",
    "# Exact energy\n",
    "H1 = np.kron(np.array([[1, 0], [0, 1]]), np.array([[1, 0], [0, 1]]))\n",
    "H2 = np.kron(np.array([[1, 0], [0, 1]]), np.array([[0, 1], [1, 0]])) \n",
    "H3 = np.kron(np.array([[0, 1], [1, 0]]), np.array([[0, 1], [1, 0]]))\n",
    "H4 = -np.kron(np.array([[0, -1], [1, 0]]), np.array([[0, -1], [1, 0]]))\n",
    "H = 2*H1 - H2 - 0.5*H3 - 0.5*H4\n",
    "exact_energy = np.min(np.linalg.eig(H)[0])\n",
    "\n",
    "# plot\n",
    "plt.plot(range(len(energy)), energy, \"bo\", markersize=3, ls=\"dashed\", label='VQE')\n",
    "plt.plot(range(len(energy)), np.full(len(energy), exact_energy), color=\"red\", label='Exact')\n",
    "plt.xlabel(\"Optimization step\", fontsize=13)\n",
    "plt.ylabel(\"Energy\", fontsize=13)\n",
    "plt.legend()\n",
    "plt.show()"
   ]
  },
  {
   "cell_type": "code",
   "execution_count": null,
   "id": "0f4e47bf-659d-4439-8ce7-41f5bf59c72e",
   "metadata": {},
   "outputs": [],
   "source": []
  }
 ],
 "metadata": {
  "kernelspec": {
   "display_name": "Python 3 (ipykernel)",
   "language": "python",
   "name": "python3"
  },
  "language_info": {
   "codemirror_mode": {
    "name": "ipython",
    "version": 3
   },
   "file_extension": ".py",
   "mimetype": "text/x-python",
   "name": "python",
   "nbconvert_exporter": "python",
   "pygments_lexer": "ipython3",
   "version": "3.11.6"
  }
 },
 "nbformat": 4,
 "nbformat_minor": 5
}
