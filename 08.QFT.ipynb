{
 "cells": [
  {
   "cell_type": "markdown",
   "metadata": {},
   "source": [
    "Discrete Fourier transform (DFT)\n",
    "\n",
    "$\\Rightarrow$ Transform the sequence $\\{a_0, a_1, \\dots, a_{N-1}\\}$ into $\\{\\phi_0, \\phi_1, \\dots, \\phi_{N-1}\\}$, where $\\phi_k = \\frac{1}{\\sqrt{N}} \\sum_{j=0}^{N-1} a_j e^{2\\pi i \\left( \\frac{jk}{N} \\right)}$"
   ]
  },
  {
   "cell_type": "code",
   "execution_count": null,
   "metadata": {},
   "outputs": [],
   "source": [
    "import numpy as np\n",
    "\n",
    "def DFT(seq):\n",
    "    N = len(seq)\n",
    "    X = np.zeros(N, dtype=complex)\n",
    "    for k in range(N):\n",
    "        for j in range(N):\n",
    "            X[k] += seq[j]*np.exp(2j*np.pi*(k*j/N))\n",
    "    return X/np.sqrt(N)"
   ]
  },
  {
   "cell_type": "markdown",
   "metadata": {},
   "source": [
    "Quantum Fourier transform(QFT)\n",
    "\n",
    "Let $N=2^{n}$.\n",
    "\n",
    "$\\Rightarrow$ Transform $\\left|\\psi\\right> = a_{0} \\left| 0 \\right> + \\cdots + a_{N-1} \\left| N-1\\right>$\n",
    "into $\\left|\\phi\\right> = \\phi_{0} \\left| 0 \\right> + \\cdots + \\phi_{N-1} \\left| N-1\\right>$.\n",
    "\n",
    "$\\Rightarrow \\left| j \\right> \\xrightarrow{\\text{QFT}} \\frac{1}{\\sqrt{N}} \\sum_{k=0}^{N-1} e^{2\\pi i \\left(\\frac{jk}{N}\\right)} \\left| k \\right>$\n",
    "\n",
    "$\\Rightarrow \\left| j_{n-1} \\right> \\left| j_{n-2} \\right> \\cdots \\left| j_{1} \\right> \\left| j_{0} \\right> \\xrightarrow{\\text{QFT}}$  \n",
    "$\\qquad \\frac{1}{\\sqrt{2}} \\left( \\left|0\\right> + e^{2\\pi i \\left(\\frac{j_0}{2}\\right)} \\left|1\\right> \\right) \\otimes\n",
    "\\frac{1}{\\sqrt{2}} \\left( \\left|0\\right> + e^{2\\pi i \\left(\\frac{j_1}{2} + \\frac{j_0}{2^2}\\right)} \\left|1\\right> \\right) \\otimes \\cdots$  \n",
    "$\\qquad\\qquad \\otimes \\frac{1}{\\sqrt{2}} \\left( \\left|0\\right> + e^{2\\pi i \\left( \\frac{j_{n-2}}{2} + \\cdots + \\frac{j_1}{2^{n-2}} + \\frac{j_0}{2^{n-1}} \\right)} \\left|1\\right> \\right) \\otimes\n",
    "\\frac{1}{\\sqrt{2}} \\left( \\left|0\\right> + e^{2\\pi i \\left( \\frac{j_{n-1}}{2} + \\frac{j_{n-2}}{2^2} + \\cdots + \\frac{j_1}{2^{n-1}} + \\frac{j_0}{2^n} \\right)} \\left|1\\right> \\right)$\n",
    "\n",
    "Note: phaseshift operator\n",
    "$R_{\\theta}(\\theta) = \n",
    "\\begin{bmatrix}\n",
    "1 & 0 \\\\\n",
    "0 & e^{i\\theta}\n",
    "\\end{bmatrix}$."
   ]
  },
  {
   "cell_type": "code",
   "execution_count": null,
   "metadata": {},
   "outputs": [],
   "source": [
    "import pennylane as qml\n",
    "import matplotlib.pyplot as plt\n",
    "\n",
    "n_qubits = 6\n",
    "\n",
    "dev = qml.device(\"default.qubit\", wires=n_qubits)\n",
    "\n",
    "@qml.qnode(dev)\n",
    "def QFT(seq):\n",
    "    qml.MottonenStatePreparation(seq, wires=[i for i in range(n_qubits)])\n",
    "    for i in range(n_qubits):\n",
    "        qml.Hadamard(wires=i)\n",
    "        for j in range(i+1, n_qubits):\n",
    "            qml.ControlledPhaseShift(np.pi/2**(j-i), wires=[j, i])\n",
    "    for i in range(n_qubits//2):\n",
    "        qml.SWAP(wires=[i, n_qubits-i-1])\n",
    "    return qml.state()\n",
    "\n",
    "# QFT circuit\n",
    "test_seq = np.array([1 for i in range(2**n_qubits)])\n",
    "test_seq = test_seq/np.linalg.norm(test_seq)\n",
    "fig, ax = qml.draw_mpl(QFT)(test_seq)\n",
    "plt.show()"
   ]
  },
  {
   "cell_type": "code",
   "execution_count": null,
   "metadata": {},
   "outputs": [],
   "source": [
    "# Example\n",
    "N = 2**n_qubits\n",
    "t = np.arange(N)\n",
    "f = 4\n",
    "# {a_{0}, ..., a_{N-1}}\n",
    "seq = np.sin(2*np.pi*(f*t/N))\n",
    "init_seq = seq/np.linalg.norm(seq)\n",
    "\n",
    "# initial sequence plot\n",
    "plt.plot(t, init_seq)\n",
    "plt.show()"
   ]
  },
  {
   "cell_type": "code",
   "execution_count": null,
   "metadata": {},
   "outputs": [],
   "source": [
    "# results\n",
    "DFT_seq = DFT(init_seq)    \n",
    "QFT_seq = QFT(init_seq)\n",
    "\n",
    "print('fidelity:', abs(np.dot(DFT_seq, QFT_seq)))\n",
    "\n",
    "fig, axs = plt.subplots(2, 1, figsize=(10, 8))\n",
    "\n",
    "axs[0].stem(np.abs(DFT_seq), markerfmt='ro', linefmt='None')\n",
    "axs[0].set_title(\"DFT\")\n",
    "axs[1].stem(np.abs(QFT_seq), markerfmt='bo', linefmt='None')\n",
    "axs[1].set_title(\"QFT\")\n",
    "\n",
    "plt.show()"
   ]
  },
  {
   "cell_type": "code",
   "execution_count": null,
   "metadata": {},
   "outputs": [],
   "source": []
  }
 ],
 "metadata": {
  "kernelspec": {
   "display_name": "Python 3 (ipykernel)",
   "language": "python",
   "name": "python3"
  },
  "language_info": {
   "codemirror_mode": {
    "name": "ipython",
    "version": 3
   },
   "file_extension": ".py",
   "mimetype": "text/x-python",
   "name": "python",
   "nbconvert_exporter": "python",
   "pygments_lexer": "ipython3",
   "version": "3.11.6"
  }
 },
 "nbformat": 4,
 "nbformat_minor": 4
}
